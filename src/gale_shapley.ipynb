{
 "cells": [
  {
   "cell_type": "markdown",
   "metadata": {},
   "source": [
    "# Algoritmo de Gale-Shapley"
   ]
  },
  {
   "cell_type": "code",
   "execution_count": 1,
   "metadata": {},
   "outputs": [],
   "source": [
    "def gale_shapley(men_preferences, women_preferences, n):\n",
    "    unmarried_men = list(range(n))\n",
    "    man_spouse = [None] * n\n",
    "    woman_spouse = [None] * n\n",
    "    next_man_choice = [0] * n\n",
    "    while unmarried_men:\n",
    "        he = unmarried_men[0]\n",
    "        his_preferences = men_preferences[he]\n",
    "        she = his_preferences[next_man_choice[he]]\n",
    "        her_preferences = women_preferences[she]\n",
    "        current_husband = woman_spouse[she]\n",
    "        if current_husband is None:\n",
    "            man_spouse[he] = his_preferences[next_man_choice[he]]\n",
    "            woman_spouse[she] = he\n",
    "            unmarried_men.pop(0)\n",
    "        elif her_preferences.index(current_husband) > her_preferences.index(he):\n",
    "            man_spouse[current_husband] = None\n",
    "            man_spouse[he] = his_preferences[next_man_choice[he]]\n",
    "            woman_spouse[she] = he\n",
    "            unmarried_men.pop(0)\n",
    "            unmarried_men.append(current_husband)\n",
    "        next_man_choice[he] += 1\n",
    "    return man_spouse"
   ]
  },
  {
   "cell_type": "markdown",
   "metadata": {},
   "source": [
    "## Exemplo de uso"
   ]
  },
  {
   "cell_type": "code",
   "execution_count": 2,
   "metadata": {},
   "outputs": [
    {
     "name": "stdout",
     "output_type": "stream",
     "text": [
      "O homem 0 está com a mulher 1\n",
      "O homem 1 está com a mulher 2\n",
      "O homem 2 está com a mulher 0\n"
     ]
    }
   ],
   "source": [
    "men_preferences = [\n",
    "    [1, 2, 0],\n",
    "    [1, 0, 2],\n",
    "    [0, 2, 1],\n",
    "]\n",
    "women_preferences = [\n",
    "    [2, 1, 0],\n",
    "    [0, 2, 1],\n",
    "    [1, 2, 0],\n",
    "]\n",
    "n = 3\n",
    "man_spouse = gale_shapley(men_preferences, women_preferences, n)\n",
    "for man, woman in enumerate(man_spouse):\n",
    "    print(f'O homem {man} está com a mulher {woman}')"
   ]
  }
 ],
 "metadata": {
  "kernelspec": {
   "display_name": "Python 3",
   "language": "python",
   "name": "python3"
  },
  "language_info": {
   "codemirror_mode": {
    "name": "ipython",
    "version": 3
   },
   "file_extension": ".py",
   "mimetype": "text/x-python",
   "name": "python",
   "nbconvert_exporter": "python",
   "pygments_lexer": "ipython3",
   "version": "3.11.4"
  }
 },
 "nbformat": 4,
 "nbformat_minor": 2
}
